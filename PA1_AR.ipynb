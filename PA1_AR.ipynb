{
 "cells": [
  {
   "cell_type": "markdown",
   "id": "c91ca462",
   "metadata": {},
   "source": [
    "* AJ Rallo\n",
    "* Assignment 1\n",
    "* Version 1\n",
    "* Fall 2023"
   ]
  },
  {
   "cell_type": "markdown",
   "id": "7cc02b18",
   "metadata": {},
   "source": [
    "# AJ Rallo"
   ]
  },
  {
   "cell_type": "markdown",
   "id": "d5879ed0",
   "metadata": {},
   "source": [
    "### My name is AJ and I have never coded before, but I have always found it very interesting. I am taking this class for my major however I have ALWAYS wanted to take a coding class and this is perfect!"
   ]
  },
  {
   "cell_type": "markdown",
   "id": "5a63bdb1",
   "metadata": {},
   "source": [
    "* Programming Assingments\n",
    "* Quizzes\n",
    "* Attendance/In-class completed notebook assingments\n",
    "* Mid-term Exams (2)\n",
    "* Project (2)"
   ]
  },
  {
   "cell_type": "markdown",
   "id": "ec22b0ff",
   "metadata": {},
   "source": [
    "1. Variables and Simple Data\n",
    "2. Introducing Lists, Tuples\n",
    "3. If Statements\n",
    "4. Dictionaries\n",
    "5. While Loops\n",
    "6. Functions\n",
    "7. Classes\n",
    "8. Numpy"
   ]
  },
  {
   "cell_type": "markdown",
   "id": "dd4ef742",
   "metadata": {},
   "source": [
    "**Python**"
   ]
  },
  {
   "cell_type": "markdown",
   "id": "6a9dd648",
   "metadata": {},
   "source": [
    "*Anaconda*"
   ]
  },
  {
   "cell_type": "markdown",
   "id": "588af908",
   "metadata": {},
   "source": [
    "This is a ` Highlighted` text"
   ]
  },
  {
   "cell_type": "markdown",
   "id": "aef2c702",
   "metadata": {},
   "source": [
    "<a href=\"https://github.com/AjdaRallo/\">"
   ]
  },
  {
   "cell_type": "markdown",
   "id": "3cf475df",
   "metadata": {},
   "source": [
    "<a href=\"https://github.com/AjdaRallo/\">this link</a>"
   ]
  },
  {
   "cell_type": "markdown",
   "id": "f8a31459",
   "metadata": {},
   "source": [
    "![Bellarmine Logo](https://a.espncdn.com/combiner/i?img=/i/teamlogos/ncaa/500/91.png)"
   ]
  },
  {
   "cell_type": "markdown",
   "id": "9ef42ed1",
   "metadata": {},
   "source": [
    "I have learned many of the basic skills using markdown for python coding. After a guide from Dr. Sarkar last classm I have been able to walkthrough each of the steps in creating this document and I have succesfully done the required tasks in the exact way they needed to be done. I am starting to feel somewhat confident in my ability to do some of these things and am excited, because a week ago I didn't even know where to start!"
   ]
  }
 ],
 "metadata": {
  "kernelspec": {
   "display_name": "Python 3 (ipykernel)",
   "language": "python",
   "name": "python3"
  },
  "language_info": {
   "codemirror_mode": {
    "name": "ipython",
    "version": 3
   },
   "file_extension": ".py",
   "mimetype": "text/x-python",
   "name": "python",
   "nbconvert_exporter": "python",
   "pygments_lexer": "ipython3",
   "version": "3.11.4"
  }
 },
 "nbformat": 4,
 "nbformat_minor": 5
}
